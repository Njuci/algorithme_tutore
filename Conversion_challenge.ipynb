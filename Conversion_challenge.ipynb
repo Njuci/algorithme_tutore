{
 "cells": [
  {
   "cell_type": "code",
   "execution_count": 16,
   "id": "e223a810",
   "metadata": {},
   "outputs": [
    {
     "name": "stdout",
     "output_type": "stream",
     "text": [
      "3.3\n"
     ]
    }
   ],
   "source": [
    "def conversion_string_float(a:str): \n",
    "    b=a.replace(\",\",\".\") \n",
    "    return float(b)\n",
    "print(conversion_string_float('3,3'))"
   ]
  },
  {
   "cell_type": "code",
   "execution_count": 17,
   "id": "d0a94a19",
   "metadata": {},
   "outputs": [
    {
     "name": "stdout",
     "output_type": "stream",
     "text": [
      "[{'math': 15.0}, {'anglais': 12.0}, {'ig': 10.0}, {'stat': 18.0}, {'dessin': 18.0}]\n"
     ]
    }
   ],
   "source": [
    "def conservision_cours(cours:list):\n",
    "    new_cours=[]\n",
    "    for a in cours:\n",
    "        f={}\n",
    "        for i in a.keys():\n",
    "                f[i]=conversion_string_float(a[i])\n",
    "                \n",
    "        new_cours.append(f)\n",
    "        \n",
    "    return new_cours\n",
    "print(conservision_cours( [{'math': '15'}, {'anglais': '12'}, {'ig': '10'}, {'stat': '18'}, {'dessin': '18'}]))"
   ]
  },
  {
   "cell_type": "code",
   "execution_count": 18,
   "id": "16a26f60",
   "metadata": {},
   "outputs": [
    {
     "name": "stdout",
     "output_type": "stream",
     "text": [
      "{'nom': 'njuci', 'email': 'njucimec@gmail.com', 'total': '61', 'pourcentage': '8', 'mention': 'd', 'cours': [{'math': 15.0}, {'anglais': 12.0}, {'ig': 10.0}, {'stat': 18.0}, {'dessin': 18.0}]}\n"
     ]
    }
   ],
   "source": [
    "def conservion_dict_cours(ligne:dict):\n",
    "    ligne['cours']=conservision_cours(ligne.get('cours'))\n",
    "    return ligne\n",
    "print(conservion_dict_cours({'nom': 'njuci', 'email': 'njucimec@gmail.com', \n",
    "                             'total': '61', 'pourcentage': '8', 'mention': 'd',\n",
    "                             'cours': [{'math': '15'}, {'anglais': '12'}, {'ig': '10'},\n",
    "                                       {'stat': '18'}, {'dessin': '18'}]}))"
   ]
  },
  {
   "cell_type": "code",
   "execution_count": null,
   "id": "8e443fb1",
   "metadata": {},
   "outputs": [],
   "source": [
    "def conversion(tab:list):\n",
    "    new_file=[]\n",
    "    for i in range(len(tab)):\n",
    "        a=conservion_dict_cours(tab[i])\n",
    "        new_file.append(a)\n",
    "    return new_file\n",
    "\n",
    "    "
   ]
  }
 ],
 "metadata": {
  "kernelspec": {
   "display_name": "Python 3 (ipykernel)",
   "language": "python",
   "name": "python3"
  },
  "language_info": {
   "codemirror_mode": {
    "name": "ipython",
    "version": 3
   },
   "file_extension": ".py",
   "mimetype": "text/x-python",
   "name": "python",
   "nbconvert_exporter": "python",
   "pygments_lexer": "ipython3",
   "version": "3.9.6"
  }
 },
 "nbformat": 4,
 "nbformat_minor": 5
}
