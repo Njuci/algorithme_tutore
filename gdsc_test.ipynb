{
 "cells": [
  {
   "attachments": {},
   "cell_type": "markdown",
   "id": "94fdf0f2",
   "metadata": {},
   "source": [
    "# Gdsc correcrion"
   ]
  },
  {
   "cell_type": "code",
   "execution_count": 1,
   "id": "7ddfc5ae",
   "metadata": {},
   "outputs": [
    {
     "data": {
      "text/plain": [
       "[{'nom': 'njuci',\n",
       "  'email': 'njucimec@gmail.com',\n",
       "  'total': '61',\n",
       "  'pourcentage': '8',\n",
       "  'mention': 'd',\n",
       "  'cours': [{'math': '15'},\n",
       "   {'anglais': '12'},\n",
       "   {'ig': '10'},\n",
       "   {'stat': '18'},\n",
       "   {'dessin': '18'}]},\n",
       " {'nom': 'tacite ',\n",
       "  'email': 'njucimec@gmail.com',\n",
       "  'total': '60',\n",
       "  'pourcentage': '75',\n",
       "  'mention': 'd',\n",
       "  'cours': [{'math': '15'},\n",
       "   {'anglais': '20'},\n",
       "   {'ig': '10'},\n",
       "   {'stat': '18'},\n",
       "   {'dessin': '17'}]},\n",
       " {'nom': 'jeremy',\n",
       "  'email': 'njucimec@gmail.com',\n",
       "  'total': '60',\n",
       "  'pourcentage': '75',\n",
       "  'mention': 'd',\n",
       "  'cours': [{'math': '15'},\n",
       "   {'anglais': '15'},\n",
       "   {'ig': '10'},\n",
       "   {'stat': '18'},\n",
       "   {'dessin': '17'}]},\n",
       " {'nom': 'destin ',\n",
       "  'email': 'njucimec@gmail.com',\n",
       "  'total': '62',\n",
       "  'pourcentage': '77,5',\n",
       "  'mention': 'd',\n",
       "  'cours': [{'math': '15'},\n",
       "   {'anglais': '17'},\n",
       "   {'ig': '10'},\n",
       "   {'stat': '18'},\n",
       "   {'dessin': '19'}]},\n",
       " {'nom': 'benjamin ',\n",
       "  'email': 'njucimec@gmail.com',\n",
       "  'total': '66',\n",
       "  'pourcentage': '82,5',\n",
       "  'mention': 'gd',\n",
       "  'cours': [{'math': '17'},\n",
       "   {'anglais': '10'},\n",
       "   {'ig': '15'},\n",
       "   {'stat': '17'},\n",
       "   {'dessin': '17'}]},\n",
       " {'nom': 'kajabika ',\n",
       "  'email': 'njucimec@gmail.com',\n",
       "  'total': '59',\n",
       "  'pourcentage': '73,75',\n",
       "  'mention': 'd',\n",
       "  'cours': [{'math': '17'},\n",
       "   {'anglais': '7'},\n",
       "   {'ig': '14'},\n",
       "   {'stat': '17'},\n",
       "   {'dessin': '11'}]},\n",
       " {'nom': 'toto ',\n",
       "  'email': 'njucimec@gmail.com',\n",
       "  'total': '59',\n",
       "  'pourcentage': '73,75',\n",
       "  'mention': 'd',\n",
       "  'cours': [{'math': '17'},\n",
       "   {'anglais': '19'},\n",
       "   {'ig': '14'},\n",
       "   {'stat': '17'},\n",
       "   {'dessin': '11'}]},\n",
       " {'nom': 'tete',\n",
       "  'email': 'njucimec@gmail.com',\n",
       "  'total': '66',\n",
       "  'pourcentage': '82,5',\n",
       "  'mention': 'gd',\n",
       "  'cours': [{'math': '10'},\n",
       "   {'anglais': '14'},\n",
       "   {'ig': '19'},\n",
       "   {'stat': '20'},\n",
       "   {'dessin': '17'}]}]"
      ]
     },
     "execution_count": 1,
     "metadata": {},
     "output_type": "execute_result"
    }
   ],
   "source": [
    "from conversion import *\n",
    "\n",
    "from calcul_point import *\n",
    "from gdsc import *\n",
    "q=chif()\n",
    "a=q.chiffrementcsv(\"calcul.csv\")\n",
    "\n",
    "chiffrementrafine(a)\n"
   ]
  },
  {
   "cell_type": "code",
   "execution_count": 2,
   "id": "a62f253a",
   "metadata": {},
   "outputs": [],
   "source": [
    "from conversion import *\n",
    "from gdsc import *\n",
    "\n",
    "f=chif()"
   ]
  },
  {
   "cell_type": "code",
   "execution_count": 3,
   "id": "640e3aff",
   "metadata": {
    "scrolled": true
   },
   "outputs": [
    {
     "data": {
      "text/plain": [
       "{'nom': 'njuci',\n",
       " 'email': 'njucimec@gmail.com',\n",
       " 'total': '61',\n",
       " 'pourcentage': '8',\n",
       " 'mention': 'd',\n",
       " 'cours': [{'math': 60.0},\n",
       "  {'anglais': 24.0},\n",
       "  {'ig': 30.0},\n",
       "  {'stat': 36.0},\n",
       "  {'dessin': 72.0}]}"
      ]
     },
     "execution_count": 3,
     "metadata": {},
     "output_type": "execute_result"
    }
   ],
   "source": [
    "from conversion import *\n",
    "from gdsc import *\n",
    "from calcul_point import *\n",
    "calcul_point_dict({'nom': 'njuci', 'email': 'njucimec@gmail.com', 'total': '61', 'pourcentage': '8', 'mention': 'd',\n",
    "                   'cours': [{'math': 15.0}, {'anglais': 12.0}, {'ig': 10.0}, {'stat': 18.0}, {'dessin': 18.0}]},\n",
    "         conservision_cours(dict_to_list(f.chiffrementcsv('cotation.csv')[0])))\n"
   ]
  },
  {
   "cell_type": "code",
   "execution_count": 4,
   "id": "e4a82de4",
   "metadata": {},
   "outputs": [
    {
     "data": {
      "text/plain": [
       "[{'nom': 'njuci',\n",
       "  'email': 'njucimec@gmail.com',\n",
       "  'total': 222.0,\n",
       "  'pourcentage': '8',\n",
       "  'mention': 'd',\n",
       "  'cours': [{'math': 60.0},\n",
       "   {'anglais': 24.0},\n",
       "   {'ig': 30.0},\n",
       "   {'stat': 36.0},\n",
       "   {'dessin': 72.0}]},\n",
       " {'nom': 'tacite ',\n",
       "  'email': 'njucimec@gmail.com',\n",
       "  'total': 234.0,\n",
       "  'pourcentage': '75',\n",
       "  'mention': 'd',\n",
       "  'cours': [{'math': 60.0},\n",
       "   {'anglais': 40.0},\n",
       "   {'ig': 30.0},\n",
       "   {'stat': 36.0},\n",
       "   {'dessin': 68.0}]},\n",
       " {'nom': 'jeremy',\n",
       "  'email': 'njucimec@gmail.com',\n",
       "  'total': 224.0,\n",
       "  'pourcentage': '75',\n",
       "  'mention': 'd',\n",
       "  'cours': [{'math': 60.0},\n",
       "   {'anglais': 30.0},\n",
       "   {'ig': 30.0},\n",
       "   {'stat': 36.0},\n",
       "   {'dessin': 68.0}]},\n",
       " {'nom': 'destin ',\n",
       "  'email': 'njucimec@gmail.com',\n",
       "  'total': 236.0,\n",
       "  'pourcentage': '77,5',\n",
       "  'mention': 'd',\n",
       "  'cours': [{'math': 60.0},\n",
       "   {'anglais': 34.0},\n",
       "   {'ig': 30.0},\n",
       "   {'stat': 36.0},\n",
       "   {'dessin': 76.0}]},\n",
       " {'nom': 'benjamin ',\n",
       "  'email': 'njucimec@gmail.com',\n",
       "  'total': 235.0,\n",
       "  'pourcentage': '82,5',\n",
       "  'mention': 'gd',\n",
       "  'cours': [{'math': 68.0},\n",
       "   {'anglais': 20.0},\n",
       "   {'ig': 45.0},\n",
       "   {'stat': 34.0},\n",
       "   {'dessin': 68.0}]},\n",
       " {'nom': 'kajabika ',\n",
       "  'email': 'njucimec@gmail.com',\n",
       "  'total': 202.0,\n",
       "  'pourcentage': '73,75',\n",
       "  'mention': 'd',\n",
       "  'cours': [{'math': 68.0},\n",
       "   {'anglais': 14.0},\n",
       "   {'ig': 42.0},\n",
       "   {'stat': 34.0},\n",
       "   {'dessin': 44.0}]},\n",
       " {'nom': 'toto ',\n",
       "  'email': 'njucimec@gmail.com',\n",
       "  'total': 226.0,\n",
       "  'pourcentage': '73,75',\n",
       "  'mention': 'd',\n",
       "  'cours': [{'math': 68.0},\n",
       "   {'anglais': 38.0},\n",
       "   {'ig': 42.0},\n",
       "   {'stat': 34.0},\n",
       "   {'dessin': 44.0}]},\n",
       " {'nom': 'tete',\n",
       "  'email': 'njucimec@gmail.com',\n",
       "  'total': 233.0,\n",
       "  'pourcentage': '82,5',\n",
       "  'mention': 'gd',\n",
       "  'cours': [{'math': 40.0},\n",
       "   {'anglais': 28.0},\n",
       "   {'ig': 57.0},\n",
       "   {'stat': 40.0},\n",
       "   {'dessin': 68.0}]}]"
      ]
     },
     "execution_count": 4,
     "metadata": {},
     "output_type": "execute_result"
    }
   ],
   "source": [
    "from conversion import *\n",
    "from gdsc import *\n",
    "from calcul_point import *\n",
    "def calcul_total(liste:list):\n",
    "    new_list=[]\n",
    "    for a in liste:\n",
    "        a['total']=total_cours_credit(a['cours'])\n",
    "        new_list.append(a)\n",
    "    return new_list\n",
    "calcul_total(calcul_point_list(conversion(chiffrementrafine(f.chiffrementcsv('calcul.csv'))),conservision_cours(dict_to_list(f.chiffrementcsv('cotation.csv')[0]))))\n"
   ]
  },
  {
   "cell_type": "code",
   "execution_count": 5,
   "id": "827e0fb2",
   "metadata": {},
   "outputs": [
    {
     "data": {
      "text/plain": [
       "15.0"
      ]
     },
     "execution_count": 5,
     "metadata": {},
     "output_type": "execute_result"
    }
   ],
   "source": [
    "from conversion import *\n",
    "from gdsc import *\n",
    "from calcul_point import *\n",
    "#from calcul_point import total_cours_credit as total\n",
    " \n",
    "total_cours_credit(conservision_cours(dict_to_list(f.chiffrementcsv('cotation.csv')[0])))"
   ]
  }
 ],
 "metadata": {
  "kernelspec": {
   "display_name": "Python 3 (ipykernel)",
   "language": "python",
   "name": "python3"
  },
  "language_info": {
   "codemirror_mode": {
    "name": "ipython",
    "version": 3
   },
   "file_extension": ".py",
   "mimetype": "text/x-python",
   "name": "python",
   "nbconvert_exporter": "python",
   "pygments_lexer": "ipython3",
   "version": "3.9.6"
  }
 },
 "nbformat": 4,
 "nbformat_minor": 5
}
