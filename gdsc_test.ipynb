{
 "cells": [
  {
   "attachments": {},
   "cell_type": "markdown",
   "id": "94fdf0f2",
   "metadata": {},
   "source": [
    "# Gdsc correcrion"
   ]
  },
  {
   "cell_type": "code",
   "execution_count": null,
   "id": "7ddfc5ae",
   "metadata": {},
   "outputs": [],
   "source": [
    "from conversion import *\n",
    "\n",
    "from calcul_point import *\n",
    "from gdsc import *\n",
    "q=chif()\n",
    "a=q.chiffrementcsv(\"calcul.csv\")\n",
    "\n",
    "chiffrementrafine(a)\n"
   ]
  },
  {
   "cell_type": "code",
   "execution_count": null,
   "id": "a62f253a",
   "metadata": {},
   "outputs": [],
   "source": [
    "from conversion import *\n",
    "from gdsc import *\n",
    "\n",
    "f=chif()"
   ]
  },
  {
   "cell_type": "code",
   "execution_count": null,
   "id": "640e3aff",
   "metadata": {
    "scrolled": true
   },
   "outputs": [],
   "source": [
    "from conversion import *\n",
    "from gdsc import *\n",
    "from calcul_point import *\n",
    "calcul_point_dict({'nom': 'njuci', 'email': 'njucimec@gmail.com', 'total': '61', 'pourcentage': '8', 'mention': 'd',\n",
    "                   'cours': [{'math': 15.0}, {'anglais': 12.0}, {'ig': 10.0}, {'stat': 18.0}, {'dessin': 18.0}]},\n",
    "         conservision_cours(dict_to_list(f.chiffrementcsv('cotation.csv')[0])))\n"
   ]
  },
  {
   "cell_type": "code",
   "execution_count": null,
   "id": "e4a82de4",
   "metadata": {},
   "outputs": [],
   "source": [
    "from conversion import *\n",
    "from gdsc import *\n",
    "from calcul_point import *\n",
    "\n",
    "calcul_point_list(conversion(chiffrementrafine(f.chiffrementcsv('calcul.csv'))),conservision_cours(dict_to_list(f.chiffrementcsv('cotation.csv')[0])))\n"
   ]
  },
  {
   "cell_type": "code",
   "execution_count": null,
   "id": "827e0fb2",
   "metadata": {},
   "outputs": [],
   "source": [
    "from conversion import *\n",
    "from gdsc import *\n",
    "from calcul_point import *\n",
    "#from calcul_point import total_cours_credit as total\n",
    " \n",
    "total_cours_credit(conservision_cours(dict_to_list(f.chiffrementcsv('cotation.csv')[0])))"
   ]
  }
 ],
 "metadata": {
  "kernelspec": {
   "display_name": "Python 3 (ipykernel)",
   "language": "python",
   "name": "python3"
  },
  "language_info": {
   "codemirror_mode": {
    "name": "ipython",
    "version": 3
   },
   "file_extension": ".py",
   "mimetype": "text/x-python",
   "name": "python",
   "nbconvert_exporter": "python",
   "pygments_lexer": "ipython3",
   "version": "3.9.6"
  }
 },
 "nbformat": 4,
 "nbformat_minor": 5
}
