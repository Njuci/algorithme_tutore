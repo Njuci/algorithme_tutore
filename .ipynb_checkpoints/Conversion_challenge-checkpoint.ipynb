{
 "cells": [
  {
   "cell_type": "code",
   "execution_count": 5,
   "id": "e223a810",
   "metadata": {},
   "outputs": [
    {
     "name": "stdout",
     "output_type": "stream",
     "text": [
      "3.3\n"
     ]
    }
   ],
   "source": [
    "def conversion_string_float(a:str): \n",
    "    b=a.replace(\",\",\".\") \n",
    "    return float(b)\n",
    "print(conversion_string_float('3,3'))"
   ]
  },
  {
   "cell_type": "code",
   "execution_count": 12,
   "id": "d0a94a19",
   "metadata": {},
   "outputs": [
    {
     "name": "stdout",
     "output_type": "stream",
     "text": [
      "dict_keys(['math'])\n",
      "dict_keys(['anglais'])\n",
      "dict_keys(['ig'])\n",
      "dict_keys(['stat'])\n",
      "dict_keys(['dessin'])\n",
      "[{'math': '15'}, {'anglais': '12'}, {'ig': '10'}, {'stat': '18'}, {'dessin': '18'}]\n"
     ]
    }
   ],
   "source": [
    "def conservision_cours(cours:list):\n",
    "    for a in cours:\n",
    "        print(a.keys(), a.values())\n",
    "        a.keys()\n",
    "        #cours[a]=conversion_string_float(cours[a].values())\n",
    "    return cours\n",
    "print(conservision_cours( [{'math': '15'}, {'anglais': '12'}, {'ig': '10'}, {'stat': '18'}, {'dessin': '18'}]))"
   ]
  },
  {
   "cell_type": "code",
   "execution_count": null,
   "id": "16a26f60",
   "metadata": {},
   "outputs": [],
   "source": []
  },
  {
   "cell_type": "code",
   "execution_count": null,
   "id": "017c2cac",
   "metadata": {},
   "outputs": [],
   "source": []
  }
 ],
 "metadata": {
  "kernelspec": {
   "display_name": "Python 3 (ipykernel)",
   "language": "python",
   "name": "python3"
  },
  "language_info": {
   "codemirror_mode": {
    "name": "ipython",
    "version": 3
   },
   "file_extension": ".py",
   "mimetype": "text/x-python",
   "name": "python",
   "nbconvert_exporter": "python",
   "pygments_lexer": "ipython3",
   "version": "3.9.6"
  }
 },
 "nbformat": 4,
 "nbformat_minor": 5
}
